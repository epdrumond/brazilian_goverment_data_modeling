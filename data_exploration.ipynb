{
 "cells": [
  {
   "cell_type": "code",
   "execution_count": 1,
   "id": "61af78f0",
   "metadata": {},
   "outputs": [],
   "source": [
    "#Import libraries\n",
    "import pandas as pd\n",
    "import numpy as np"
   ]
  },
  {
   "cell_type": "code",
   "execution_count": 49,
   "id": "60e48b34",
   "metadata": {},
   "outputs": [],
   "source": [
    "#Load budget data\n",
    "budget_file = 'plano_orcamentario_2018.txt'\n",
    "data = pd.read_csv(budget_file, sep=';')"
   ]
  },
  {
   "cell_type": "markdown",
   "id": "ac082446",
   "metadata": {},
   "source": [
    "# 1. Initial Data Treatment"
   ]
  },
  {
   "cell_type": "code",
   "execution_count": 52,
   "id": "41c74d80",
   "metadata": {},
   "outputs": [],
   "source": [
    "#Rename columns\n",
    "new_cols = {\n",
    "    'codigo': 'code',\n",
    "    'descricao': 'description',\n",
    "    'codUnidadeOrcamentaria': 'budget_unit_code',\n",
    "    'codigoFuncao': 'function_code',\n",
    "    'codigoSubFuncao': 'subfunction_code',\n",
    "    'codigoPrograma': 'program_code',\n",
    "    'codigoAcao': 'action_code',\n",
    "    'codPOIdAcompanhamento':  'managing_code',\n",
    "    'descPOIdAcompanhamento': 'managing_description',\n",
    "    'numAno': 'year'\n",
    "}\n",
    "\n",
    "data.rename(columns=new_cols, inplace=True)"
   ]
  },
  {
   "cell_type": "markdown",
   "id": "30dbdac8",
   "metadata": {},
   "source": [
    "# 2. Early Exploration"
   ]
  },
  {
   "cell_type": "markdown",
   "id": "ed7fc691",
   "metadata": {},
   "source": [
    "## 2.1. Unique Field Values"
   ]
  },
  {
   "cell_type": "code",
   "execution_count": 54,
   "id": "9291989d",
   "metadata": {},
   "outputs": [
    {
     "data": {
      "text/html": [
       "<div>\n",
       "<style scoped>\n",
       "    .dataframe tbody tr th:only-of-type {\n",
       "        vertical-align: middle;\n",
       "    }\n",
       "\n",
       "    .dataframe tbody tr th {\n",
       "        vertical-align: top;\n",
       "    }\n",
       "\n",
       "    .dataframe thead th {\n",
       "        text-align: right;\n",
       "    }\n",
       "</style>\n",
       "<table border=\"1\" class=\"dataframe\">\n",
       "  <thead>\n",
       "    <tr style=\"text-align: right;\">\n",
       "      <th></th>\n",
       "      <th>Unique Vals</th>\n",
       "      <th>Data Type</th>\n",
       "    </tr>\n",
       "  </thead>\n",
       "  <tbody>\n",
       "    <tr>\n",
       "      <th>id</th>\n",
       "      <td>15465</td>\n",
       "      <td>numbers only</td>\n",
       "    </tr>\n",
       "    <tr>\n",
       "      <th>code</th>\n",
       "      <td>150</td>\n",
       "      <td>alphanumeric</td>\n",
       "    </tr>\n",
       "    <tr>\n",
       "      <th>description</th>\n",
       "      <td>5059</td>\n",
       "      <td>alphanumeric</td>\n",
       "    </tr>\n",
       "    <tr>\n",
       "      <th>budget_unit_code</th>\n",
       "      <td>444</td>\n",
       "      <td>numbers only</td>\n",
       "    </tr>\n",
       "    <tr>\n",
       "      <th>function_code</th>\n",
       "      <td>29</td>\n",
       "      <td>numbers only</td>\n",
       "    </tr>\n",
       "    <tr>\n",
       "      <th>subfunction_code</th>\n",
       "      <td>100</td>\n",
       "      <td>numbers only</td>\n",
       "    </tr>\n",
       "    <tr>\n",
       "      <th>program_code</th>\n",
       "      <td>137</td>\n",
       "      <td>numbers only</td>\n",
       "    </tr>\n",
       "    <tr>\n",
       "      <th>action_code</th>\n",
       "      <td>2746</td>\n",
       "      <td>alphanumeric</td>\n",
       "    </tr>\n",
       "    <tr>\n",
       "      <th>managing_code</th>\n",
       "      <td>54</td>\n",
       "      <td>alphanumeric</td>\n",
       "    </tr>\n",
       "    <tr>\n",
       "      <th>managing_description</th>\n",
       "      <td>33</td>\n",
       "      <td>alphanumeric</td>\n",
       "    </tr>\n",
       "    <tr>\n",
       "      <th>year</th>\n",
       "      <td>1</td>\n",
       "      <td>numbers only</td>\n",
       "    </tr>\n",
       "  </tbody>\n",
       "</table>\n",
       "</div>"
      ],
      "text/plain": [
       "                     Unique Vals     Data Type\n",
       "id                         15465  numbers only\n",
       "code                         150  alphanumeric\n",
       "description                 5059  alphanumeric\n",
       "budget_unit_code             444  numbers only\n",
       "function_code                 29  numbers only\n",
       "subfunction_code             100  numbers only\n",
       "program_code                 137  numbers only\n",
       "action_code                 2746  alphanumeric\n",
       "managing_code                 54  alphanumeric\n",
       "managing_description          33  alphanumeric\n",
       "year                           1  numbers only"
      ]
     },
     "execution_count": 54,
     "metadata": {},
     "output_type": "execute_result"
    }
   ],
   "source": [
    "#Description of fields\n",
    "def check_alphanumeric(series):\n",
    "    is_digit = max([max([ch.isdigit() for ch in str(val)]) for val in series])\n",
    "    is_alpha = max([max([ch.isalpha() for ch in str(val)]) for val in series])\n",
    "    \n",
    "    if is_digit and is_alpha:\n",
    "        return 'alphanumeric'\n",
    "    elif is_digit:\n",
    "        return 'numbers only'\n",
    "    elif is_alpha:\n",
    "        return 'letters only'\n",
    "\n",
    "\n",
    "description = {}\n",
    "for col in data.columns:\n",
    "    description.update({\n",
    "        col: [data[col].nunique(), check_alphanumeric(data[col])]\n",
    "    })\n",
    "    \n",
    "description = pd.DataFrame(description).T\n",
    "description.columns = ['Unique Vals', 'Data Type']\n",
    "description"
   ]
  },
  {
   "cell_type": "markdown",
   "id": "17f02f02",
   "metadata": {},
   "source": [
    "* We have fields with very different amounts of unique values;\n",
    "* Our next step should be to understand how these fields relate to each other. That means, at this point, to check if there is any sort of relationship between the values of 2 or more fields that could helps normalize this dataset."
   ]
  },
  {
   "cell_type": "markdown",
   "id": "412d9718",
   "metadata": {},
   "source": [
    "## 2.2. Relationship Between Fields"
   ]
  },
  {
   "cell_type": "code",
   "execution_count": 66,
   "id": "94ca5535",
   "metadata": {},
   "outputs": [],
   "source": [
    "def check_relationship(data, first_col, second_col):\n",
    "    df_first = data.groupby(by=first_col).agg({second_col: 'nunique'})\n",
    "    df_second = df = data.groupby(by=second_col).agg({first_col: 'nunique'})\n",
    "    \n",
    "    max_first = df_first.max()[0]\n",
    "    max_second = df_second.max()[0]\n",
    "    \n",
    "    return '{} {} \\t: {} {}'.format(\n",
    "        1 if max_second == 1 else 'N',\n",
    "        first_col,\n",
    "        1 if max_first == 1 else 'M',\n",
    "        second_col\n",
    "    )"
   ]
  },
  {
   "cell_type": "code",
   "execution_count": 67,
   "id": "ef80ba2c",
   "metadata": {},
   "outputs": [
    {
     "name": "stdout",
     "output_type": "stream",
     "text": [
      "N code \t: M description\n",
      "N description \t: M budget_unit_code\n",
      "N budget_unit_code \t: M function_code\n",
      "N function_code \t: M subfunction_code\n",
      "N subfunction_code \t: M program_code\n",
      "N program_code \t: M action_code\n",
      "N action_code \t: M managing_code\n",
      "N managing_code \t: 1 managing_description\n"
     ]
    }
   ],
   "source": [
    "#Check possible relationships\n",
    "cols_to_check = data.columns[1:-1]\n",
    "for i, col in enumerate(cols_to_check[:-1]):\n",
    "    next_col = cols_to_check[i+1]\n",
    "    print(check_relationship(data, col, next_col))"
   ]
  },
  {
   "cell_type": "markdown",
   "id": "bfa98dfa",
   "metadata": {},
   "source": [
    "Apparently theres only one relationship we can more easily leverage at this point, the one between the \"managing_code\" and \"managing_description\" fields. For this one, we see that there is only a single description for each code but, on the other way around, the same description can be applied for several different codes. Since this does not seem to make a lot of sense, let's take a deeper look at it."
   ]
  },
  {
   "cell_type": "code",
   "execution_count": 68,
   "id": "2874b642",
   "metadata": {},
   "outputs": [
    {
     "data": {
      "text/html": [
       "<div>\n",
       "<style scoped>\n",
       "    .dataframe tbody tr th:only-of-type {\n",
       "        vertical-align: middle;\n",
       "    }\n",
       "\n",
       "    .dataframe tbody tr th {\n",
       "        vertical-align: top;\n",
       "    }\n",
       "\n",
       "    .dataframe thead th {\n",
       "        text-align: right;\n",
       "    }\n",
       "</style>\n",
       "<table border=\"1\" class=\"dataframe\">\n",
       "  <thead>\n",
       "    <tr style=\"text-align: right;\">\n",
       "      <th></th>\n",
       "      <th>managing_code</th>\n",
       "    </tr>\n",
       "    <tr>\n",
       "      <th>managing_description</th>\n",
       "      <th></th>\n",
       "    </tr>\n",
       "  </thead>\n",
       "  <tbody>\n",
       "    <tr>\n",
       "      <th>Sem informação</th>\n",
       "      <td>22</td>\n",
       "    </tr>\n",
       "  </tbody>\n",
       "</table>\n",
       "</div>"
      ],
      "text/plain": [
       "                      managing_code\n",
       "managing_description               \n",
       "Sem informação                   22"
      ]
     },
     "execution_count": 68,
     "metadata": {},
     "output_type": "execute_result"
    }
   ],
   "source": [
    "#Check for the \"managing_description\" values for different \"managing_code\"\n",
    "aux = data.groupby(by='managing_description').agg({'managing_code': 'nunique'})\n",
    "aux = aux[aux['managing_code'] > 1]\n",
    "\n",
    "aux"
   ]
  },
  {
   "cell_type": "markdown",
   "id": "23edf4fc",
   "metadata": {},
   "source": [
    "There is only a single description being used in more than one code at the same time. Looking at this description, it means \"No information\". So it is not that the same description is being used for 22 different codes, but that these codes do not have any related description."
   ]
  }
 ],
 "metadata": {
  "kernelspec": {
   "display_name": "Python 3 (ipykernel)",
   "language": "python",
   "name": "python3"
  },
  "language_info": {
   "codemirror_mode": {
    "name": "ipython",
    "version": 3
   },
   "file_extension": ".py",
   "mimetype": "text/x-python",
   "name": "python",
   "nbconvert_exporter": "python",
   "pygments_lexer": "ipython3",
   "version": "3.8.10"
  }
 },
 "nbformat": 4,
 "nbformat_minor": 5
}
